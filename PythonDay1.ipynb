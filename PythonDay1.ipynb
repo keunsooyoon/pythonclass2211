{
  "nbformat": 4,
  "nbformat_minor": 0,
  "metadata": {
    "colab": {
      "provenance": [],
      "include_colab_link": true
    },
    "kernelspec": {
      "name": "python3",
      "display_name": "Python 3"
    },
    "language_info": {
      "name": "python"
    }
  },
  "cells": [
    {
      "cell_type": "markdown",
      "metadata": {
        "id": "view-in-github",
        "colab_type": "text"
      },
      "source": [
        "<a href=\"https://colab.research.google.com/github/keunsooyoon/pythonclass2211/blob/main/PythonDay1.ipynb\" target=\"_parent\"><img src=\"https://colab.research.google.com/assets/colab-badge.svg\" alt=\"Open In Colab\"/></a>"
      ]
    },
    {
      "cell_type": "code",
      "execution_count": null,
      "metadata": {
        "colab": {
          "base_uri": "https://localhost:8080/"
        },
        "id": "CF_ylJEMd6oI",
        "outputId": "b4cd35dc-0e9f-46bd-93ff-cb8c2f9a7be9"
      },
      "outputs": [
        {
          "output_type": "stream",
          "name": "stdout",
          "text": [
            "Hello World!!!\n"
          ]
        }
      ],
      "source": [
        "print(\"Hello World!!!\")\n"
      ]
    },
    {
      "cell_type": "markdown",
      "source": [
        "- 파이썬이란...\n",
        "귀도 반 로썸 1990년에 개발한 인터프리터 언어이다. (컴파일러와 인터프리터가 있으며 한줄한줄 코드를 해석해서 실행 결과를 바로 확인할 수 있는 언어이다....)\n",
        "\n",
        " 로고는 고대 신화에 나오는 동굴에 살던 큰 뱀을 뜻한다.\n",
        "\n",
        " 파이썬 교육용으로 많이 사용되기도 하지만 업무용으로도 전혀 손색이 없다.\n",
        "\n",
        "  파이썬 언어의 특징\n",
        "  - 문법이 쉽다.\n",
        "  - 빠르게 배울 수 있다.\n",
        "  - 무료지만 강력하다.\n",
        "  - 즐거운 프로그래밍이 가능하다.\n",
        "\n",
        "  파이썬으로 할수 있는 것\n",
        "  - 인공지능\n",
        "  - 빅데이터\n",
        "  - GUI 애플리케이션\n",
        "  - c / c++ 결합\n",
        "  - 웹 프로그래임 (Flask, Django)\n",
        "  - 데이터베이스\n",
        "\n",
        " 파이썬 약점\n",
        " - 시스템과 밀접한 프로그래밍\n",
        " - 모바일 프로그래밍\n",
        "\n",
        " IDE 개발도구\n",
        " - Colab\n",
        " - Anaconda\n",
        " - VS Code\n",
        " - pyCharm"
      ],
      "metadata": {
        "id": "ojFVUryth1wF"
      }
    },
    {
      "cell_type": "markdown",
      "source": [
        "# 변수\n",
        "\n",
        "숫자, 문자 등등을 다룰 때 컴퓨터에서는 변수 variable 을 사용하게 된다."
      ],
      "metadata": {
        "id": "O-f19CFlrq9_"
      }
    },
    {
      "cell_type": "code",
      "source": [
        "a = 1\n",
        "a = 2\n",
        "b = \"python\"\n",
        "b = \"java\"\n",
        "\n",
        "print(a)\n",
        "print(b)\n",
        "print(type(a)) # 타입을 알수 있다.\n",
        "print(b,\"!\")\n",
        "print(b+\"!\") # 문자열에 붙여서 출력.  print 기본값에 \\t 포함"
      ],
      "metadata": {
        "colab": {
          "base_uri": "https://localhost:8080/"
        },
        "id": "uW6bVZFgrzJ3",
        "outputId": "1d50e80c-42bc-4ee3-dec0-6dbdcf62f714"
      },
      "execution_count": null,
      "outputs": [
        {
          "output_type": "stream",
          "name": "stdout",
          "text": [
            "2\n",
            "java\n",
            "<class 'int'>\n",
            "java !\n",
            "java!\n"
          ]
        }
      ]
    },
    {
      "cell_type": "markdown",
      "source": [
        "# **자료형**\n",
        "\n",
        "자료형이란 프로그래밍에서 자료 형태로 문자/숫자...를 사용하는 것을 말한다. 프로그래밍의 핵심이자 기본이 바로 자료형이다. 자료형을 충분히 이해해야만 프로그래밍을 잘 할수 있다.\n",
        "\n",
        "1. 숫자형\n",
        "\n",
        "숫자형 자료형은 숫자 형태 (정수, 실수 등등) 로 이루어진 자료형이다.\n",
        "\n",
        "정수  1 , 2         \n",
        "- int() 정수형으로 변환\n",
        "\n",
        "실수  2.14, 3.84.  \n",
        "- float() 실수형으로 변환\n",
        "\n",
        "\n",
        "정수형 (Integer)"
      ],
      "metadata": {
        "id": "jiR8ARjoqGCA"
      }
    },
    {
      "cell_type": "code",
      "source": [
        "a = 3\n",
        "b = 5\n",
        "\n",
        "# print는 생략해도 출력이 되지만 정상은 print구문을 사용하는 것이다.\n",
        "print(a+b) # 주석 comment 은 컴퓨터는 읽지 않는다.\n",
        "print(a-b)\n",
        "print(a*b)\n",
        "print(a/b)"
      ],
      "metadata": {
        "colab": {
          "base_uri": "https://localhost:8080/"
        },
        "id": "E22QCMoUvfWf",
        "outputId": "66ca40a1-6966-47a8-f4a9-3dc9117625cd"
      },
      "execution_count": null,
      "outputs": [
        {
          "output_type": "stream",
          "name": "stdout",
          "text": [
            "8\n",
            "-2\n",
            "15\n",
            "0.6\n"
          ]
        }
      ]
    },
    {
      "cell_type": "code",
      "source": [
        "# 나머지 연산자는 몫이 아닌 나머지를 구한다.\n",
        "# 나머지 연산자를 통해 짝수, 홀수, 배수를 알아낼수 있다.\n",
        "\n",
        "a = 7\n",
        "b = 3\n",
        "\n",
        "print(a%b)\n",
        "print(8%2) # 어떤수를 2로 나눈 나머지가 1이면 할상 홀수이고 나머지가 0이면 할상 짝수\n",
        "print(8%4) # 어떤수를 어떤수로 나눈 나머지가 0이면 항상 그 수의 배수이다."
      ],
      "metadata": {
        "colab": {
          "base_uri": "https://localhost:8080/"
        },
        "id": "LVLlxH2LxCN4",
        "outputId": "075d4a76-f705-41f4-b9a8-d0b1e23060fe"
      },
      "execution_count": null,
      "outputs": [
        {
          "output_type": "stream",
          "name": "stdout",
          "text": [
            "1\n",
            "0\n",
            "0\n"
          ]
        }
      ]
    },
    {
      "cell_type": "code",
      "source": [
        "# 몫을 알고 싶을 때는 //\n",
        "\n",
        "print(9//2)"
      ],
      "metadata": {
        "colab": {
          "base_uri": "https://localhost:8080/"
        },
        "id": "Aklh3BOayrzA",
        "outputId": "36526294-7b0d-402c-8c5e-84b345294972"
      },
      "execution_count": null,
      "outputs": [
        {
          "output_type": "stream",
          "name": "stdout",
          "text": [
            "4\n"
          ]
        }
      ]
    },
    {
      "cell_type": "markdown",
      "source": [
        "# 문자열 자료형\n",
        "\n",
        "문자열을 문자, 단어, 문장 등으로 구성된 글자들의 집합이다.\n",
        "\n",
        "str() 문자형으로 변환"
      ],
      "metadata": {
        "id": "CrxYYt2Ty_nY"
      }
    },
    {
      "cell_type": "code",
      "source": [
        "a = \"b\"\n",
        "b = \"hello\"\n",
        "c = \"awesome class\"\n",
        "d = \"123\" # 123 숫자 123과는 다른 문자 \"123\" 이다.\n",
        "\n",
        "print(a)\n",
        "print(b)\n",
        "print(c)\n",
        "print(d)\n",
        "\n",
        "#자바 등과 같은 언어에서는 변수를 사용할때 형까지도 지정을 해주어야만한다.\n",
        "# char a = \"b\";\n",
        "# string b = \"hello\";\n",
        "# int c = 5;\n"
      ],
      "metadata": {
        "colab": {
          "base_uri": "https://localhost:8080/"
        },
        "id": "7qQaNor3zPTv",
        "outputId": "d595cb87-625b-47c4-e5a2-0efd982d786b"
      },
      "execution_count": null,
      "outputs": [
        {
          "output_type": "stream",
          "name": "stdout",
          "text": [
            "b\n",
            "hello\n",
            "awesome class\n",
            "123\n"
          ]
        }
      ]
    },
    {
      "cell_type": "code",
      "source": [
        "# 파이썬에서 문자열은 \"\" 큰따옴표 '' 작은까옴표 기본적으로 동일하게 취급한다.\n",
        "\n",
        "a = \"Hello\"\n",
        "b = 'Hello'\n",
        "\n",
        "print(a)\n",
        "print(b)\n",
        "\n",
        "# 하지만 아래의 경우 약간 다르게 처리된다.\n",
        "\n",
        "a = 'Hello \"Austin\"'\n",
        "print(a)\n",
        "\n",
        "b = \"Hello 'Austin'\"\n",
        "print(b)\n",
        "\n",
        "# \"\"\"   \"\"\" dod string . 컴퓨터도 읽는 주석\n",
        "# '''   ''' \n",
        "\n",
        "# 백슬래시를 넣으면 기능이 무시되고 글자로만 취급된다.\n",
        "a = \"Hello \\\"Austin\\\"\"\n",
        "b = 'Hello \\'Austin\\''\n",
        "\n",
        "print(a)\n",
        "print(b)"
      ],
      "metadata": {
        "colab": {
          "base_uri": "https://localhost:8080/"
        },
        "id": "WPMFb72s1KUY",
        "outputId": "3e821d0d-b1a4-4eea-ec91-2cefca8f9b0c"
      },
      "execution_count": null,
      "outputs": [
        {
          "output_type": "stream",
          "name": "stdout",
          "text": [
            "Hello\n",
            "Hello\n",
            "Hello \"Austin\"\n",
            "Hello 'Austin'\n",
            "Hello \"Austin\"\n",
            "Hello 'Austin'\n"
          ]
        }
      ]
    },
    {
      "cell_type": "code",
      "source": [
        "# \\ 백슬래시를 사용하는 것을 이스케이프 코드를 사용한다라고 표현한다.\n",
        "# \\'\n",
        "# \\\"\n",
        "# \\n 강제 줄바꿈\n",
        "# \\t 일정 간격 띄우기\n",
        "\n",
        "a = \"hello \\nworld\"\n",
        "print(a)\n",
        "\n",
        "b = \"hello\\t\\t\\tworld\"\n",
        "print(b)"
      ],
      "metadata": {
        "colab": {
          "base_uri": "https://localhost:8080/"
        },
        "id": "NTD7q7E_1e4w",
        "outputId": "65ec4b7b-c4a3-4ca0-b63a-bfbad2b3f3b8"
      },
      "execution_count": null,
      "outputs": [
        {
          "output_type": "stream",
          "name": "stdout",
          "text": [
            "hello \n",
            "world\n",
            "hello\t\t\tworld\n"
          ]
        }
      ]
    },
    {
      "cell_type": "markdown",
      "source": [
        "파이썬에서 아주 중요한 자료형 4가지\n",
        "- List\n",
        "- Tuple\n",
        "- Dict\n",
        "- Set\n",
        "\n",
        "#List     [    ]\n",
        "\n",
        "- mutable 수정가능하다.\n",
        "- 파이썬에서 가장 많이 사용된다.\n",
        "- indexing / slicing 이 가능하다.\n",
        "\n",
        "\n",
        "# Tuple   (     )\n",
        "\n",
        "- immutable 수정불가능하다.\n",
        "- indexing / slicing 가능하다.\n",
        "- 요소를 하나만 저장할때도 쉼표를 붙인다.\n",
        "\n",
        "#Dic  {    }\n",
        "\n",
        "- mutable 수정가능하다.\n",
        "- indexing / slicing 불가능하다.\n",
        "- 키값 - 벨류값 쌍으로 구성된다.\n",
        "\n",
        "#Set  {    }\n",
        "\n",
        "- mutable 수정가능하다.\n",
        "- indexing / slicing 불가능하다.\n",
        "- 중봅 값을 허용하지 않는다.\n"
      ],
      "metadata": {
        "id": "ZUaT5nb-5JoY"
      }
    },
    {
      "cell_type": "markdown",
      "source": [
        "#List [ ]\n",
        "- mutable 수정가능하다.\n",
        "- 파이썬에서 가장 많이 사용된다.\n",
        "- indexing / slicing 이 가능하다.\n"
      ],
      "metadata": {
        "id": "rUUdKTQSX0oj"
      }
    },
    {
      "cell_type": "code",
      "source": [
        "# 리스트 작성\n",
        "\n",
        "emp1 = []\n",
        "odd2 = [1, 3, 5, 7, 9]\n",
        "str3 = [\"하나\", \"둘\", \"삼\"]\n",
        "mix4 = [1, 2, \"삼\"]\n",
        "\n",
        "print(emp1)\n",
        "print(odd2)\n",
        "print(str3)\n",
        "print(mix4)\n",
        "\n",
        "# 리스트에서 인덱싱 indexing (파이썬에서의 인덱싱은 0에서부터 시작한다.)\n",
        "\n",
        "alist = [10, 20, 30, 40, 50]\n",
        "\n",
        "print(alist[0])\n",
        "print(alist[0] + alist[1])\n",
        "print((alist[0] + alist[1] + alist[2] + alist[3] + alist[4])/5)\n",
        "\n",
        "\n"
      ],
      "metadata": {
        "colab": {
          "base_uri": "https://localhost:8080/"
        },
        "id": "EvN7Gaw2TXOV",
        "outputId": "9714e074-5305-4130-efc8-3c5cf97abfe3"
      },
      "execution_count": null,
      "outputs": [
        {
          "output_type": "stream",
          "name": "stdout",
          "text": [
            "[]\n",
            "[1, 3, 5, 7, 9]\n",
            "['하나', '둘', '삼']\n",
            "[1, 2, '삼']\n",
            "10\n",
            "30\n",
            "30.0\n"
          ]
        }
      ]
    },
    {
      "cell_type": "code",
      "source": [
        "# 슬라이싱 slicing 하나씩 추출하는 인덱싱과는 달리 여러개를 추출한다.\n",
        "\n",
        "blist = \"12345\"\n",
        "\n",
        "blist[0:2]  # 0부터 2미만, 2는 포함하지 않는다.\n",
        "blist[:3]   # 시작을 생략하면 처음부터 3미만까지 3은 포함하지 않는다.\n",
        "blist[0:]   # 마지막을 생략하면 마지막까지\n",
        "blist[:-2]  # -는 역순 표시\n",
        "blist[::-1] # 역순으로 처음까지 표시"
      ],
      "metadata": {
        "colab": {
          "base_uri": "https://localhost:8080/",
          "height": 36
        },
        "id": "gbRwFhmUXZHL",
        "outputId": "4f2ea076-d15e-4da4-f3e0-2dd3ba733a0e"
      },
      "execution_count": null,
      "outputs": [
        {
          "output_type": "execute_result",
          "data": {
            "text/plain": [
              "'54321'"
            ],
            "application/vnd.google.colaboratory.intrinsic+json": {
              "type": "string"
            }
          },
          "metadata": {},
          "execution_count": 7
        }
      ]
    },
    {
      "cell_type": "code",
      "source": [
        "# 리스트에서의 연산\n",
        "\n",
        "# 리스트 더하기\n",
        "\n",
        "alist = [1,2,3,4,5]\n",
        "blist = [6,7,8,9,10]\n",
        "\n",
        "print(alist + blist)\n",
        "\n",
        "#리스트 곱하기  (리스트들을 반복하여 연결된 합느로 나타낸다.)\n",
        "\n",
        "print(alist * 3)\n",
        "\n",
        "# 리스트의 갯수 구하기\n",
        "\n",
        "print(len(blist))"
      ],
      "metadata": {
        "colab": {
          "base_uri": "https://localhost:8080/"
        },
        "id": "hxSj0S7ZbVeE",
        "outputId": "b576060d-2019-4777-b3b8-e56366c126d7"
      },
      "execution_count": null,
      "outputs": [
        {
          "output_type": "stream",
          "name": "stdout",
          "text": [
            "[1, 2, 3, 4, 5, 6, 7, 8, 9, 10]\n",
            "[1, 2, 3, 4, 5, 1, 2, 3, 4, 5, 1, 2, 3, 4, 5]\n",
            "5\n"
          ]
        }
      ]
    },
    {
      "cell_type": "code",
      "source": [
        "# 리스트의 수정 mutable\n",
        "\n",
        "alist = [1,2,3,4,5]\n",
        "alist[2] = 0    # 2는 자리번호\n",
        "print(alist)\n",
        "\n",
        "# 리스트의 삭제\n",
        "\n",
        "del alist[2]\n",
        "print(alist)"
      ],
      "metadata": {
        "colab": {
          "base_uri": "https://localhost:8080/"
        },
        "id": "bTBEMTnncXWM",
        "outputId": "75bfab1a-1063-4adf-e546-4fab65f56131"
      },
      "execution_count": null,
      "outputs": [
        {
          "output_type": "stream",
          "name": "stdout",
          "text": [
            "[1, 2, 0, 4, 5]\n",
            "[1, 2, 4, 5]\n"
          ]
        }
      ]
    },
    {
      "cell_type": "code",
      "source": [
        "# 리스트에서 많이 사용되는 함수들\n",
        "\n",
        "# append - 리스트에 요소를 추가하는 기능\n",
        "\n",
        "alist = [1,2,3,4,5]\n",
        "\n",
        "alist.append(6)\n",
        "\n",
        "print(\"리스트에 6을 추가한 값은\",alist,\"입니다.\")"
      ],
      "metadata": {
        "colab": {
          "base_uri": "https://localhost:8080/"
        },
        "id": "yUlF0j7VdLTl",
        "outputId": "9bd2811d-d59f-4094-e156-4cf2b89c3a6c"
      },
      "execution_count": null,
      "outputs": [
        {
          "output_type": "stream",
          "name": "stdout",
          "text": [
            "리스트에 6을 추가한 값은 [1, 2, 3, 4, 5, 6] 입니다.\n"
          ]
        }
      ]
    },
    {
      "cell_type": "code",
      "source": [
        "# sort - 리스트에서 요소들을 정렬하는 기능\n",
        "\n",
        "blist = [2,4,3,5,1]\n",
        "blist.sort()\n",
        "print(\"리스트를 순서대로 정렬한 값은\",blist,\"입니다.\")"
      ],
      "metadata": {
        "colab": {
          "base_uri": "https://localhost:8080/"
        },
        "id": "UINh2NguKFqf",
        "outputId": "cad7a405-6fa8-4c77-814b-c864bb9a283e"
      },
      "execution_count": null,
      "outputs": [
        {
          "output_type": "stream",
          "name": "stdout",
          "text": [
            "리스트를 순서대로 정렬한 값은 [1, 2, 3, 4, 5] 입니다.\n"
          ]
        }
      ]
    },
    {
      "cell_type": "code",
      "source": [
        "# reverse - 리스트에서 요소들을 그대로 뒤집는 기능\n",
        "\n",
        "clist = [1,2,3]\n",
        "clist.reverse()\n",
        "print(\"원래 리스트를 역순으로 출력한 결과는\",clist,\"입니다.\")"
      ],
      "metadata": {
        "colab": {
          "base_uri": "https://localhost:8080/"
        },
        "id": "7b0UXI_7KLZd",
        "outputId": "f97913d5-c8f1-48e9-bf92-90c707730414"
      },
      "execution_count": null,
      "outputs": [
        {
          "output_type": "stream",
          "name": "stdout",
          "text": [
            "원래 리스트를 역순으로 출력한 결과는 [3, 2, 1] 입니다.\n"
          ]
        }
      ]
    },
    {
      "cell_type": "code",
      "source": [
        "# index - 리스트에서 특정 값의 위치를 변환하는 기능\n",
        "\n",
        "dlist = [1,2,3,4,5]\n",
        "print(\"숫자 2의 인덱스 값은 \", dlist.index(2), \"입니다.\")"
      ],
      "metadata": {
        "colab": {
          "base_uri": "https://localhost:8080/"
        },
        "id": "w3oKoTW7KUqL",
        "outputId": "225d0023-b025-4001-ac54-94b1ae524ba5"
      },
      "execution_count": null,
      "outputs": [
        {
          "output_type": "stream",
          "name": "stdout",
          "text": [
            "숫자 2의 인덱스 값은  1 입니다.\n"
          ]
        }
      ]
    },
    {
      "cell_type": "code",
      "source": [
        "# insert - 리스트의 특정 위치에 요소를 추가하는 함수\n",
        "\n",
        "elist = [1,2,3,4,5]\n",
        "elist.insert(0, 0)   # (특정위치인덱스, 넣을값)\n",
        "print(elist)"
      ],
      "metadata": {
        "colab": {
          "base_uri": "https://localhost:8080/"
        },
        "id": "Ot5Z7K4eKZGW",
        "outputId": "b0a716d9-8832-4b3a-a9a2-4c507db9e82d"
      },
      "execution_count": null,
      "outputs": [
        {
          "output_type": "stream",
          "name": "stdout",
          "text": [
            "[0, 1, 2, 3, 4, 5]\n"
          ]
        }
      ]
    },
    {
      "cell_type": "code",
      "source": [
        "# remove - 리스트에서 요소를 삭제하는 기능\n",
        "\n",
        "flist = [1,2,3,4,5,3]\n",
        "flist.remove(3) # 리스트에서 삭제할 갑을 입력, 같은 값이 여러개 있을 경우 처음등장하는 값을 \n",
        "print(flist)"
      ],
      "metadata": {
        "colab": {
          "base_uri": "https://localhost:8080/"
        },
        "id": "QoCBkH6xKdPH",
        "outputId": "988d05b2-657f-4ae0-901d-6d155aeb215e"
      },
      "execution_count": null,
      "outputs": [
        {
          "output_type": "stream",
          "name": "stdout",
          "text": [
            "[1, 2, 4, 5, 3]\n"
          ]
        }
      ]
    },
    {
      "cell_type": "code",
      "source": [
        "# pop - 리스트에서 마지막 요소를 제거하는 용도로 주로 쓰지만 특정 위치로도 삭제\n",
        "\n",
        "glist = [1,2,3,4,5]\n",
        "\n",
        "glist.pop()   # 마지막 삭제\n",
        "glist.pop()\n",
        "print(glist)\n",
        "\n",
        "glist.pop(0)  # 0번째 삭제\n",
        "glist.pop(0)\n",
        "print(glist)"
      ],
      "metadata": {
        "colab": {
          "base_uri": "https://localhost:8080/"
        },
        "id": "c87hjP2qKh6f",
        "outputId": "84f9c4d6-c286-4795-98b6-6e67e5880f4f"
      },
      "execution_count": null,
      "outputs": [
        {
          "output_type": "stream",
          "name": "stdout",
          "text": [
            "[1, 2, 3]\n",
            "[3]\n"
          ]
        }
      ]
    },
    {
      "cell_type": "code",
      "source": [
        "# join - 앞에 구분자가 붙고 join 함수의 파라미터로 리스트 객체를 입력 -str만\n",
        "hlist = [\"1\",\"2\",\"3\",\"4\",\"5\"]\n",
        "\n",
        "hlist_join = ' '.join(hlist)\n",
        "print(hlist_join)\n",
        "\n",
        "hlist_join = '\\n'.join(hlist)\n",
        "print(hlist_join)"
      ],
      "metadata": {
        "colab": {
          "base_uri": "https://localhost:8080/"
        },
        "id": "UxBTS8uVpMaI",
        "outputId": "9d59ee55-b2ba-48b4-fb0b-34db4fe627b2"
      },
      "execution_count": null,
      "outputs": [
        {
          "output_type": "stream",
          "name": "stdout",
          "text": [
            "1 2 3 4 5\n",
            "1\n",
            "2\n",
            "3\n",
            "4\n",
            "5\n"
          ]
        }
      ]
    },
    {
      "cell_type": "code",
      "source": [
        "# split - 문자열을 리스트로 구분\n",
        "ilist = \"1,2,3,4,5\" # - 문자열\n",
        "\n",
        "a = ilist.split()  # 리스트로 구분\n",
        "print(a)\n",
        "\n",
        "a = ilist.split(',')  # \",\" 를 기준으로 구분\n",
        "print(a)"
      ],
      "metadata": {
        "colab": {
          "base_uri": "https://localhost:8080/"
        },
        "id": "iShT-oHWt5we",
        "outputId": "d50f8f59-6541-463d-93a6-98fae29dd381"
      },
      "execution_count": null,
      "outputs": [
        {
          "output_type": "stream",
          "name": "stdout",
          "text": [
            "['1,2,3,4,5']\n",
            "['1', '2', '3', '4', '5']\n"
          ]
        }
      ]
    },
    {
      "cell_type": "code",
      "source": [
        "# 리스트에서 요소의 개수 세기 기능\n",
        "\n",
        "jlist = [1,2,3,1]\n",
        "print(jlist.count(1))"
      ],
      "metadata": {
        "colab": {
          "base_uri": "https://localhost:8080/"
        },
        "id": "WhRc5dN5Kogw",
        "outputId": "c48a561c-4ad5-4026-f699-f78cc611faf4"
      },
      "execution_count": null,
      "outputs": [
        {
          "output_type": "stream",
          "name": "stdout",
          "text": [
            "2\n"
          ]
        }
      ]
    },
    {
      "cell_type": "code",
      "source": [
        "# 리스트의 확장은 기존 리스트에 다른 리스트를 더하여 하나의 리스트로 만든다.\n",
        "\n",
        "a = [1,2,3]\n",
        "\n",
        "a.extend([4,5])\n",
        "\n",
        "print(a)"
      ],
      "metadata": {
        "colab": {
          "base_uri": "https://localhost:8080/"
        },
        "id": "q_yKrcwzKr_9",
        "outputId": "3a9cc129-8969-4178-9104-97a279849c5d"
      },
      "execution_count": null,
      "outputs": [
        {
          "output_type": "stream",
          "name": "stdout",
          "text": [
            "[1, 2, 3, 4, 5]\n"
          ]
        }
      ]
    },
    {
      "cell_type": "code",
      "source": [
        "무비리스트 = [\"자백\",\"리맴버\",\"블랙마담\" ]\n",
        "print(무비리스트)\n"
      ],
      "metadata": {
        "colab": {
          "base_uri": "https://localhost:8080/"
        },
        "id": "t2Q-O0nghRy2",
        "outputId": "8f080d35-c75d-492e-fc01-9d4dd0cbc4de"
      },
      "execution_count": null,
      "outputs": [
        {
          "output_type": "stream",
          "name": "stdout",
          "text": [
            "['자백', '리맴버', '블랙마담']\n"
          ]
        }
      ]
    },
    {
      "cell_type": "code",
      "source": [
        "# 튜플 Tuple\n",
        "\n",
        "# 튜플은 리스트와 거의 동일하지만 immutable 즉 한번 생성하면 \n",
        "# 수정도 삭제도 불가능하다는 특징이 있다.\n",
        "# (   )  소괄호로 만든다.\n",
        "\n",
        "tuple1 = ()\n",
        "tuple2 = (1,) # 튜플은 원소 하나짜리로 만들때는 괜히 쉼표를 넣는다.\n",
        "tuple3 = (1,2,3)\n",
        "tuple4 = 1,2,3  # 튜플은 괄호를 생략 할수 있다.\n",
        "tuple5 = (1,2,3,(4,5,6))  # 튜플 안에 튜플도 포함 할수 있다."
      ],
      "metadata": {
        "id": "FIu3phymmrNm"
      },
      "execution_count": null,
      "outputs": []
    },
    {
      "cell_type": "code",
      "source": [
        "tuple1 = (1,2,3,4)\n",
        "# del tuple1[0] 튜플에서 삭제가 불가능하다.\n",
        "tuple1[0] = 0 # 튜플에서는 변경도 불가능하다.\n",
        "# immutable"
      ],
      "metadata": {
        "colab": {
          "base_uri": "https://localhost:8080/",
          "height": 223
        },
        "id": "EMAhwx0voQpD",
        "outputId": "98cbd18d-31ce-4c21-c226-a2b6d475c57e"
      },
      "execution_count": null,
      "outputs": [
        {
          "output_type": "error",
          "ename": "TypeError",
          "evalue": "ignored",
          "traceback": [
            "\u001b[0;31m---------------------------------------------------------------------------\u001b[0m",
            "\u001b[0;31mTypeError\u001b[0m                                 Traceback (most recent call last)",
            "\u001b[0;32m<ipython-input-18-fb2c4b3232cc>\u001b[0m in \u001b[0;36m<module>\u001b[0;34m\u001b[0m\n\u001b[1;32m      1\u001b[0m \u001b[0mtuple1\u001b[0m \u001b[0;34m=\u001b[0m \u001b[0;34m(\u001b[0m\u001b[0;36m1\u001b[0m\u001b[0;34m,\u001b[0m\u001b[0;36m2\u001b[0m\u001b[0;34m,\u001b[0m\u001b[0;36m3\u001b[0m\u001b[0;34m,\u001b[0m\u001b[0;36m4\u001b[0m\u001b[0;34m)\u001b[0m\u001b[0;34m\u001b[0m\u001b[0;34m\u001b[0m\u001b[0m\n\u001b[1;32m      2\u001b[0m \u001b[0;31m# del tuple1[0] 튜플에서 삭제가 불가능하다.\u001b[0m\u001b[0;34m\u001b[0m\u001b[0;34m\u001b[0m\u001b[0;34m\u001b[0m\u001b[0m\n\u001b[0;32m----> 3\u001b[0;31m \u001b[0mtuple1\u001b[0m\u001b[0;34m[\u001b[0m\u001b[0;36m0\u001b[0m\u001b[0;34m]\u001b[0m \u001b[0;34m=\u001b[0m \u001b[0;36m0\u001b[0m \u001b[0;31m# 튜플에서는 변경도 불가능하다.\u001b[0m\u001b[0;34m\u001b[0m\u001b[0;34m\u001b[0m\u001b[0m\n\u001b[0m\u001b[1;32m      4\u001b[0m \u001b[0;31m# immutable\u001b[0m\u001b[0;34m\u001b[0m\u001b[0;34m\u001b[0m\u001b[0;34m\u001b[0m\u001b[0m\n",
            "\u001b[0;31mTypeError\u001b[0m: 'tuple' object does not support item assignment"
          ]
        }
      ]
    },
    {
      "cell_type": "code",
      "source": [
        "# 튜플은 인데싱이 가능하다.\n",
        "tu1 = (1,2,3,4,5)\n",
        "\n",
        "tu1[-1] # -1은 리스트와 튜플에서 마지막 인덱스 번호이다."
      ],
      "metadata": {
        "colab": {
          "base_uri": "https://localhost:8080/"
        },
        "id": "GyR1kyexo22f",
        "outputId": "bdcf2c1f-e41b-453a-cc03-e3b4f49a438a"
      },
      "execution_count": null,
      "outputs": [
        {
          "output_type": "execute_result",
          "data": {
            "text/plain": [
              "5"
            ]
          },
          "metadata": {},
          "execution_count": 80
        }
      ]
    },
    {
      "cell_type": "code",
      "source": [
        "# 튜플에서 슬라이싱도 가능하다.\n",
        "tu1 = (1,2,3,4,5)\n",
        "tu1[0:3]  # 두번째 숫자는 미만으로 해석된다."
      ],
      "metadata": {
        "colab": {
          "base_uri": "https://localhost:8080/"
        },
        "id": "M7aRPkxIpWvW",
        "outputId": "2f4fa7d0-8410-4a82-fd14-f3ef79a77692"
      },
      "execution_count": null,
      "outputs": [
        {
          "output_type": "execute_result",
          "data": {
            "text/plain": [
              "(1, 2, 3)"
            ]
          },
          "metadata": {},
          "execution_count": 81
        }
      ]
    },
    {
      "cell_type": "code",
      "source": [
        "# 튜플의 요소 갯수\n",
        "\n",
        "tu1 = (1,2,3,4,5)\n",
        "print(len(tu1))"
      ],
      "metadata": {
        "colab": {
          "base_uri": "https://localhost:8080/"
        },
        "id": "-iqD4tRCpquW",
        "outputId": "9ab44bee-2685-4784-f884-d18fec03bf7d"
      },
      "execution_count": null,
      "outputs": [
        {
          "output_type": "stream",
          "name": "stdout",
          "text": [
            "5\n"
          ]
        }
      ]
    },
    {
      "cell_type": "code",
      "source": [
        "# 딕셔너리 Dict\n",
        "\n",
        "# 이름 그대로 dictionary 사전 처럼 키값:밸류값의 쌍으로 데이터가 \n",
        "# 저장되는 자료형이다.\n",
        "# 리스트처럼 mutable 한 속성을 가지고 있으나 인덱싱과 슬라이싱은 \n",
        "# 지원하지 않는다. 순서가 없다. 따라서 키값으로 밸류 값을 꺼낸다.\n",
        "\n",
        "adict = {5:'a',3:'b',2:'c'}\n",
        "\n",
        "print(adict[5])\n",
        "\n",
        "print(adict)\n",
        "\n",
        "adict[9] = 'd'\n",
        "\n",
        "print(adict)\n",
        "\n",
        "del adict[3]\n",
        "\n",
        "print(adict)\n"
      ],
      "metadata": {
        "colab": {
          "base_uri": "https://localhost:8080/"
        },
        "id": "Vciku_yBqG1O",
        "outputId": "ae80fbc3-9b13-4c60-bbfd-0f450ddf89a2"
      },
      "execution_count": null,
      "outputs": [
        {
          "output_type": "stream",
          "name": "stdout",
          "text": [
            "a\n",
            "{5: 'a', 3: 'b', 2: 'c'}\n",
            "{5: 'a', 3: 'b', 2: 'c', 9: 'd'}\n",
            "{5: 'a', 2: 'c', 9: 'd'}\n"
          ]
        }
      ]
    },
    {
      "cell_type": "code",
      "source": [
        "adict[0]  # 딕셔너리는 인덱싱과 슬라이싱이 불가능하다."
      ],
      "metadata": {
        "colab": {
          "base_uri": "https://localhost:8080/",
          "height": 174
        },
        "id": "jCygTl0LrwSu",
        "outputId": "ca683af0-fa83-4193-efd9-8c94944e37c3"
      },
      "execution_count": null,
      "outputs": [
        {
          "output_type": "error",
          "ename": "KeyError",
          "evalue": "ignored",
          "traceback": [
            "\u001b[0;31m---------------------------------------------------------------------------\u001b[0m",
            "\u001b[0;31mKeyError\u001b[0m                                  Traceback (most recent call last)",
            "\u001b[0;32m<ipython-input-87-d44f0556ac90>\u001b[0m in \u001b[0;36m<module>\u001b[0;34m\u001b[0m\n\u001b[0;32m----> 1\u001b[0;31m \u001b[0madict\u001b[0m\u001b[0;34m[\u001b[0m\u001b[0;36m0\u001b[0m\u001b[0;34m]\u001b[0m  \u001b[0;31m# 딕셔너리는 인덱싱과 슬라이싱이 불가능하다.\u001b[0m\u001b[0;34m\u001b[0m\u001b[0;34m\u001b[0m\u001b[0m\n\u001b[0m",
            "\u001b[0;31mKeyError\u001b[0m: 0"
          ]
        }
      ]
    },
    {
      "cell_type": "code",
      "source": [
        "# 딕셔너리에서 키값만 추출하는 기능 Keys\n",
        "\n",
        "adict = {5:'a',3:'b',2:'c'}\n",
        "\n",
        "print(adict.keys())\n",
        "\n",
        "# 딕셔너리에서 밸류값만 추출하는 기능 values\n",
        "print(adict.values())\n",
        "\n",
        "# 딕셔너리에서 쌍으로 추출하는 기능 items\n",
        "print(adict.items())\n",
        "\n",
        "# 딕셔너리에 키값이 존재하는지 확인하는 기능 in\n",
        "\n",
        "5 in adict"
      ],
      "metadata": {
        "colab": {
          "base_uri": "https://localhost:8080/"
        },
        "id": "hXRkiI0usQhW",
        "outputId": "2f573a8b-d4b2-4f86-feeb-ffa02e5faf77"
      },
      "execution_count": null,
      "outputs": [
        {
          "output_type": "stream",
          "name": "stdout",
          "text": [
            "dict_keys([5, 3, 2])\n",
            "dict_values(['a', 'b', 'c'])\n",
            "dict_items([(5, 'a'), (3, 'b'), (2, 'c')])\n"
          ]
        },
        {
          "output_type": "execute_result",
          "data": {
            "text/plain": [
              "True"
            ]
          },
          "metadata": {},
          "execution_count": 91
        }
      ]
    },
    {
      "cell_type": "code",
      "source": [
        "# Set 집합\n",
        "\n",
        "# 중복을 허용하지 않는다.\n",
        "# 삽입 삭제가 가능한 mutable 한 속성을 갖는다.\n",
        "# 인덱싱과 슬라이싱이 불가능하다. (unordered)\n",
        "\n",
        "s1 = {1,2,3,4,1,2,}\n",
        "print(s1)\n",
        "\n",
        "print(type(s1))"
      ],
      "metadata": {
        "colab": {
          "base_uri": "https://localhost:8080/"
        },
        "id": "O1-bWl5XtYBG",
        "outputId": "8914d9c8-d3ff-459c-85ec-825d36c86505"
      },
      "execution_count": null,
      "outputs": [
        {
          "output_type": "stream",
          "name": "stdout",
          "text": [
            "{1, 2, 3, 4}\n",
            "<class 'set'>\n"
          ]
        }
      ]
    },
    {
      "cell_type": "code",
      "source": [
        "# Boolean Ture False  (반드시 대문자)                          Alan Turing -영화 이미테이션게임, 스티브 잡스"
      ],
      "metadata": {
        "id": "3IdFqm6LurG-"
      },
      "execution_count": null,
      "outputs": []
    },
    {
      "cell_type": "code",
      "source": [
        "# 숙제용 문법 \n",
        "\n",
        "a = \"hi\"\n",
        "print(a)"
      ],
      "metadata": {
        "colab": {
          "base_uri": "https://localhost:8080/"
        },
        "id": "WMPokc9qz6IH",
        "outputId": "fccce261-ff00-4aa2-914f-f633c01321f4"
      },
      "execution_count": null,
      "outputs": [
        {
          "output_type": "stream",
          "name": "stdout",
          "text": [
            "hi\n"
          ]
        }
      ]
    },
    {
      "cell_type": "code",
      "source": [
        "a = input(\"출력할 내용을 입력하세요\")\n",
        "print(\"입력하신 내용은\", a, \"입니다.\")"
      ],
      "metadata": {
        "colab": {
          "base_uri": "https://localhost:8080/"
        },
        "id": "zfwfsL5T0GD-",
        "outputId": "fc01e2e9-44a6-41a5-b710-9f36b370a4cb"
      },
      "execution_count": null,
      "outputs": [
        {
          "output_type": "stream",
          "name": "stdout",
          "text": [
            "출력할 내용을 입력하세요물고기\n",
            "입력하신 내용은 물고기 입니다.\n"
          ]
        }
      ]
    }
  ]
}