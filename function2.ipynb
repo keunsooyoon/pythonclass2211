{
 "cells": [
  {
   "cell_type": "code",
   "execution_count": 1,
   "metadata": {},
   "outputs": [
    {
     "name": "stdout",
     "output_type": "stream",
     "text": [
      "hello world\n"
     ]
    }
   ],
   "source": [
    "print('hello world')"
   ]
  },
  {
   "cell_type": "code",
   "execution_count": null,
   "metadata": {},
   "outputs": [],
   "source": [
    "# 함수의 4가지 형태\n",
    "\n",
    "# 1 input 과 output 모두 있는 형태 (가장 많이 사용되는 형태)\n",
    "# 2 input 과 output 모두 없는 형태\n",
    "# 3 input 만 있는 형태\n",
    "# 4 output 만 있는 형태"
   ]
  },
  {
   "cell_type": "code",
   "execution_count": 2,
   "metadata": {},
   "outputs": [
    {
     "name": "stdout",
     "output_type": "stream",
     "text": [
      "5\n"
     ]
    }
   ],
   "source": [
    "# 1 input 과 output 모두 있는 형태 (가장 많이 사용되는 형태)\n",
    "\n",
    "def add(a,b):   # a와 b라는 입력\n",
    "    return a+b  # return 이라는 키워드가 있으면 output 이 존재 한다. \n",
    "\n",
    "print(add(1,4))"
   ]
  },
  {
   "cell_type": "code",
   "execution_count": 3,
   "metadata": {},
   "outputs": [
    {
     "name": "stdout",
     "output_type": "stream",
     "text": [
      "hello\n"
     ]
    }
   ],
   "source": [
    "# 2 input 과 output 모두 없는 형태\n",
    "\n",
    "def say():         # 괄호안에 아무런 값이 없으면 input이 없는 것이다. \n",
    "    print(\"hello\") # return 키워드가 없으면 output 이 없는 것이다. \n",
    "\n",
    "say()    "
   ]
  },
  {
   "cell_type": "code",
   "execution_count": 4,
   "metadata": {},
   "outputs": [
    {
     "name": "stdout",
     "output_type": "stream",
     "text": [
      "홍길동 님 환영합니다. \n"
     ]
    }
   ],
   "source": [
    "# 3 input 만 있는 형태\n",
    "\n",
    "def inputonly(name):\n",
    "    print(name, \"님 환영합니다. \")  # return 이 없으면 output 은 없는 것이다. \n",
    "\n",
    "inputonly(\"홍길동\")"
   ]
  },
  {
   "cell_type": "code",
   "execution_count": 7,
   "metadata": {},
   "outputs": [
    {
     "data": {
      "text/plain": [
       "'Hello World'"
      ]
     },
     "execution_count": 7,
     "metadata": {},
     "output_type": "execute_result"
    }
   ],
   "source": [
    "# 4 output 만 있는 형태\n",
    "\n",
    "def outputonly():\n",
    "    return \"Hello World\"\n",
    "\n",
    "outputonly()"
   ]
  },
  {
   "cell_type": "code",
   "execution_count": 9,
   "metadata": {},
   "outputs": [
    {
     "name": "stdout",
     "output_type": "stream",
     "text": [
      "3\n",
      "6\n"
     ]
    }
   ],
   "source": [
    "def sumfunction1(a,b):\n",
    "    return a+b\n",
    "\n",
    "print(sumfunction1(1,2))\n",
    "\n",
    "def sumfunction2(a,b,c):\n",
    "    return a+b+c\n",
    "\n",
    "print(sumfunction2(1,2,3))"
   ]
  },
  {
   "cell_type": "code",
   "execution_count": 10,
   "metadata": {},
   "outputs": [
    {
     "name": "stdout",
     "output_type": "stream",
     "text": [
      "3\n",
      "6\n"
     ]
    }
   ],
   "source": [
    "# 함수의 인수의 갯수가 일정하지 않을 경우 처리 방법 특징\n",
    "def sumfunction(*args):\n",
    "    result = 0\n",
    "    for i in args:\n",
    "        result = result + i\n",
    "    return result\n",
    "\n",
    "print(sumfunction(1,2))\n",
    "print(sumfunction(1,2,3))"
   ]
  },
  {
   "cell_type": "code",
   "execution_count": 12,
   "metadata": {},
   "outputs": [
    {
     "name": "stdout",
     "output_type": "stream",
     "text": [
      "(5, 6)\n",
      "5\n",
      "6\n"
     ]
    }
   ],
   "source": [
    "# 함수의 결과 값은 언제나 '하나'라는 특징\n",
    "\n",
    "def add_mul(a,b):\n",
    "    return a+b, a*b\n",
    "\n",
    "print(add_mul(2,3))\n",
    "\n",
    "res1, res2 = add_mul(2,3)\n",
    "print(res1)\n",
    "print(res2)"
   ]
  },
  {
   "cell_type": "code",
   "execution_count": 14,
   "metadata": {},
   "outputs": [
    {
     "name": "stdout",
     "output_type": "stream",
     "text": [
      "5\n"
     ]
    }
   ],
   "source": [
    "def add_mul(a,b):\n",
    "    return a+b\n",
    "    return a*b   #곱하기 결과는 수행되지 않는다. \n",
    "                 #return을 만나면 함수에서 나간다는 특징이 있다. \n",
    "\n",
    "res = add_mul(2,3)\n",
    "print(res)"
   ]
  },
  {
   "cell_type": "code",
   "execution_count": 17,
   "metadata": {},
   "outputs": [
    {
     "name": "stdout",
     "output_type": "stream",
     "text": [
      "Hello nick\n",
      "Hello jane\n"
     ]
    }
   ],
   "source": [
    "# return 의 마지막 특징\n",
    "\n",
    "def sayhello(name):\n",
    "    if name == \"austin\":\n",
    "        return\n",
    "    print(\"Hello\", name)\n",
    "\n",
    "\n",
    "sayhello(\"nick\")\n",
    "sayhello(\"austin\")\n",
    "sayhello(\"jane\")"
   ]
  },
  {
   "cell_type": "code",
   "execution_count": 18,
   "metadata": {},
   "outputs": [
    {
     "name": "stdout",
     "output_type": "stream",
     "text": [
      "내 이름은  홍길동 이고 나이는 21 이며 남성입니다.\n",
      "내 이름은  이몽룡 이고 나이는 14 이며 남성입니다.\n",
      "내 이름은  성춘향 이고 나이는 13 이며 여성입니다.\n"
     ]
    }
   ],
   "source": [
    "# 매개변수에 미리 초기값을 설정하는 특징\n",
    "\n",
    "def sayname(name, age, man=True):\n",
    "    print(\"내 이름은 \",  name, \"이고 나이는\", age,\"이며\", end=\" \")\n",
    "    if man:\n",
    "        print(\"남성입니다.\")\n",
    "    else:\n",
    "        print(\"여성입니다.\")\n",
    "\n",
    "\n",
    "sayname(\"홍길동\",21)\n",
    "sayname(\"이몽룡\",14,True)\n",
    "sayname(\"성춘향\",13,False)"
   ]
  },
  {
   "cell_type": "code",
   "execution_count": 27,
   "metadata": {},
   "outputs": [
    {
     "name": "stdout",
     "output_type": "stream",
     "text": [
      "나의 이름은 홍길동이고 나이는 20입니다.\n"
     ]
    }
   ],
   "source": [
    "\n",
    "# f 스트링으로 출력하는 방법\n",
    "\n",
    "name =\"홍길동\"\n",
    "age = 20\n",
    "\n",
    "print(f\"나의 이름은 {name}이고 나이는 {age}입니다.\")\n",
    "\n"
   ]
  },
  {
   "cell_type": "code",
   "execution_count": 28,
   "metadata": {},
   "outputs": [
    {
     "name": "stdout",
     "output_type": "stream",
     "text": [
      "1\n"
     ]
    }
   ],
   "source": [
    "# 함수 안에서의 변수 영향 범위 - 전역변수/지역변수 global/local variable\n",
    "\n",
    "a = 1\n",
    "def varexam(a):\n",
    "    a += 1  # 함수 안에서의 변수값은 함수 밖에는 전혀 영향을 미치지 않는다.\n",
    "\n",
    "varexam(a)\n",
    "print(a)"
   ]
  },
  {
   "cell_type": "code",
   "execution_count": 30,
   "metadata": {},
   "outputs": [
    {
     "name": "stdout",
     "output_type": "stream",
     "text": [
      "2\n",
      "1\n"
     ]
    }
   ],
   "source": [
    "a = 1\n",
    "def varexam(a):\n",
    "    a += 1  # 함수 안에서의 변수값은 함수 밖에는 전혀 영향을 미치지 않는다.\n",
    "    return a\n",
    "\n",
    "print(varexam(a))\n",
    "print(a)"
   ]
  },
  {
   "cell_type": "code",
   "execution_count": 31,
   "metadata": {},
   "outputs": [
    {
     "name": "stdout",
     "output_type": "stream",
     "text": [
      "2\n"
     ]
    }
   ],
   "source": [
    "a = 1\n",
    "def varexam():\n",
    "    global a  # 변수 a를 함수 안에서 선언하면 전역 변수가 된다. \n",
    "    a = a + 1\n",
    "\n",
    "varexam()\n",
    "print(a)"
   ]
  },
  {
   "cell_type": "code",
   "execution_count": 32,
   "metadata": {},
   "outputs": [
    {
     "name": "stdout",
     "output_type": "stream",
     "text": [
      "2\n",
      "1\n"
     ]
    }
   ],
   "source": [
    "a = 1\n",
    "def varexam(b):\n",
    "    b += 1  # 함수 안에서의 변수값은 함수 밖에는 전혀 영향을 미치지 않는다.\n",
    "    return b\n",
    "\n",
    "print(varexam(a))\n",
    "print(a)"
   ]
  },
  {
   "cell_type": "code",
   "execution_count": 33,
   "metadata": {},
   "outputs": [
    {
     "name": "stdout",
     "output_type": "stream",
     "text": [
      "홀수입니다.\n",
      "짝수입니다.\n"
     ]
    }
   ],
   "source": [
    "def isodd(no):\n",
    "    if no % 2 == 0:\n",
    "        print(\"짝수입니다.\")\n",
    "    else:\n",
    "        print(\"홀수입니다.\")\n",
    "\n",
    "isodd(3)\n",
    "isodd(4)"
   ]
  },
  {
   "cell_type": "markdown",
   "metadata": {},
   "source": [
    "# 갯수 구하기 len()\n",
    "\n",
    "def sumfunction(*args):\n",
    "    result = 0\n",
    "    for i in args:\n",
    "        result = result + i\n",
    "    return result\n",
    "\n",
    "print(sumfunction(1,2))\n",
    "print(sumfunction(1,2,3))"
   ]
  },
  {
   "cell_type": "code",
   "execution_count": 36,
   "metadata": {},
   "outputs": [
    {
     "name": "stdout",
     "output_type": "stream",
     "text": [
      "1.5\n",
      "2.0\n"
     ]
    }
   ],
   "source": [
    "def avgnum(*args):\n",
    "    result = 0\n",
    "    for i in args:\n",
    "        result = result + i\n",
    "    return result / len(args)\n",
    "\n",
    "print(avgnum(1,2))\n",
    "print(avgnum(1,2,3))"
   ]
  },
  {
   "cell_type": "code",
   "execution_count": 37,
   "metadata": {},
   "outputs": [],
   "source": [
    "# 새로운 txt 파일 만들기 \n",
    "# \n",
    "f = open(\"newfile.txt\",\"w\")\n",
    "f.close()"
   ]
  },
  {
   "cell_type": "code",
   "execution_count": 40,
   "metadata": {},
   "outputs": [],
   "source": [
    "# 파일에 내용 넣기\n",
    "\n",
    "f = open(\"newfile2.txt\",\"w\")  # 새 파일 만들어서 열고\n",
    " \n",
    "for i in range(1,11):         # 파일에 여러 데이터 넣기\n",
    "    data = \"%d line \\n\" % i\n",
    "    f.write(data)\n",
    "\n",
    "f.close()                     # 파일 닫기"
   ]
  },
  {
   "cell_type": "code",
   "execution_count": 41,
   "metadata": {},
   "outputs": [
    {
     "name": "stdout",
     "output_type": "stream",
     "text": [
      "1 line \n",
      "\n",
      "2 line \n",
      "\n",
      "3 line \n",
      "\n",
      "4 line \n",
      "\n",
      "5 line \n",
      "\n",
      "6 line \n",
      "\n",
      "7 line \n",
      "\n",
      "8 line \n",
      "\n",
      "9 line \n",
      "\n",
      "10 line \n",
      "\n"
     ]
    }
   ],
   "source": [
    "f = open(\"newfile2.txt\",\"r\")\n",
    "\n",
    "while True:\n",
    "    line = f.readline()\n",
    "    if not line: break\n",
    "    print(line)\n",
    "\n",
    "f.close()"
   ]
  },
  {
   "cell_type": "code",
   "execution_count": 44,
   "metadata": {},
   "outputs": [
    {
     "name": "stdout",
     "output_type": "stream",
     "text": [
      "3\n",
      "5\n",
      "1\n",
      "3\n"
     ]
    }
   ],
   "source": [
    "#  OOP\n",
    "\n",
    "result1 = 0\n",
    "result2 = 0\n",
    "\n",
    "def add1(num):\n",
    "    global result1\n",
    "    result1 += num\n",
    "    return result1\n",
    "\n",
    "def add2(num):\n",
    "    global result2\n",
    "    result2 += num\n",
    "    return result2\n",
    "\n",
    "print(add1(3))\n",
    "print(add1(2))\n",
    "print(add2(1))\n",
    "print(add2(2))"
   ]
  },
  {
   "cell_type": "code",
   "execution_count": 45,
   "metadata": {},
   "outputs": [
    {
     "name": "stdout",
     "output_type": "stream",
     "text": [
      "3\n",
      "5\n",
      "\n",
      "1\n",
      "3\n",
      "\n",
      "1\n",
      "3\n",
      "6\n"
     ]
    }
   ],
   "source": [
    "class Cal:\n",
    "\n",
    "    def __init__(self):  # 생성자\n",
    "        self.result = 0\n",
    "\n",
    "    def add(self,num):   # 매서드 (함수가 아닌 매서드)\n",
    "        self.result += num\n",
    "        return self.result\n",
    "\n",
    "cal1 = Cal()\n",
    "cal2 = Cal()\n",
    "cal3 = Cal()\n",
    "\n",
    "print(cal1.add(3))\n",
    "print(cal1.add(2))\n",
    "print()\n",
    "print(cal2.add(1))\n",
    "print(cal2.add(2))\n",
    "print()\n",
    "print(cal3.add(1))\n",
    "print(cal3.add(2))\n",
    "print(cal3.add(3))"
   ]
  },
  {
   "cell_type": "code",
   "execution_count": 46,
   "metadata": {},
   "outputs": [
    {
     "name": "stdout",
     "output_type": "stream",
     "text": [
      "3\n",
      "5\n",
      "\n",
      "1\n",
      "3\n",
      "\n",
      "1\n",
      "3\n",
      "6\n",
      "18\n"
     ]
    }
   ],
   "source": [
    "class Cal:\n",
    "\n",
    "    def __init__(self):  # 생성자\n",
    "        self.result = 0\n",
    "\n",
    "    def add(self,num):   # 매서드 (함수가 아닌 매서드)\n",
    "        self.result += num\n",
    "        return self.result\n",
    "\n",
    "    def mul(self,num):   # 매서드 (함수가 아닌 매서드)\n",
    "        self.result *= num\n",
    "        return self.result\n",
    "\n",
    "cal1 = Cal()\n",
    "cal2 = Cal()\n",
    "cal3 = Cal()\n",
    "\n",
    "print(cal1.add(3))\n",
    "print(cal1.add(2))\n",
    "print()\n",
    "print(cal2.add(1))\n",
    "print(cal2.add(2))\n",
    "print()\n",
    "print(cal3.add(1))\n",
    "print(cal3.add(2))\n",
    "print(cal3.add(3))\n",
    "print(cal3.mul(3))"
   ]
  },
  {
   "cell_type": "code",
   "execution_count": 52,
   "metadata": {},
   "outputs": [
    {
     "name": "stdout",
     "output_type": "stream",
     "text": [
      "3\n",
      "5\n"
     ]
    }
   ],
   "source": [
    "class Cal:\n",
    "    def add(self, first, second):\n",
    "        result = first + second\n",
    "        return result\n",
    "\n",
    "cal1 = Cal() \n",
    "cal2 = Cal()\n",
    "\n",
    "print(cal1.add(1,2))\n",
    "print(cal2.add(2,3))"
   ]
  },
  {
   "cell_type": "code",
   "execution_count": 53,
   "metadata": {},
   "outputs": [
    {
     "name": "stdout",
     "output_type": "stream",
     "text": [
      "3\n",
      "5\n",
      "2\n",
      "6\n"
     ]
    }
   ],
   "source": [
    "class Cal:\n",
    "    def add(self, first, second):\n",
    "        result = first + second\n",
    "        return result\n",
    "\n",
    "    def mul(self, first, second):\n",
    "        result = first * second\n",
    "        return result\n",
    "\n",
    "cal1 = Cal() \n",
    "cal2 = Cal()\n",
    "\n",
    "print(cal1.add(1,2))\n",
    "print(cal2.add(2,3))\n",
    "\n",
    "print(cal1.mul(1,2))\n",
    "print(cal2.mul(2,3))"
   ]
  },
  {
   "cell_type": "code",
   "execution_count": 56,
   "metadata": {},
   "outputs": [
    {
     "name": "stdout",
     "output_type": "stream",
     "text": [
      "3\n",
      "2\n",
      "7\n",
      "12\n"
     ]
    }
   ],
   "source": [
    "class Cal:\n",
    "    def setdata(self, first, second):\n",
    "        self.first = first\n",
    "        self.second = second\n",
    "\n",
    "    def add(self):\n",
    "        result = self.first + self.second\n",
    "        return result\n",
    "\n",
    "    def mul(self):\n",
    "        result = self.first * self.second\n",
    "        return result\n",
    "\n",
    "cal1 = Cal() \n",
    "cal1.setdata(1,2)\n",
    "print(cal1.add())\n",
    "print(cal1.mul())\n",
    "cal2 = Cal() \n",
    "cal2.setdata(3,4)\n",
    "print(cal2.add())\n",
    "print(cal2.mul())"
   ]
  },
  {
   "cell_type": "code",
   "execution_count": 58,
   "metadata": {},
   "outputs": [
    {
     "name": "stdout",
     "output_type": "stream",
     "text": [
      "3\n",
      "2\n",
      "7\n",
      "12\n"
     ]
    }
   ],
   "source": [
    "# 생성자 Constructor\n",
    "class Cal:\n",
    "    def __init__(self, first, second):\n",
    "        self.first = first\n",
    "        self.second = second\n",
    "    # def setdata(self, first, second):\n",
    "    #     self.first = first\n",
    "    #     self.second = second\n",
    "\n",
    "    def add(self):\n",
    "        result = self.first + self.second\n",
    "        return result\n",
    "\n",
    "    def mul(self):\n",
    "        result = self.first * self.second\n",
    "        return result\n",
    "\n",
    "cal1 = Cal(1,2) \n",
    "# cal1.setdata(1,2)\n",
    "print(cal1.add())\n",
    "print(cal1.mul())\n",
    "cal2 = Cal(3,4) \n",
    "# cal2.setdata(3,4)\n",
    "print(cal2.add())\n",
    "print(cal2.mul())\n"
   ]
  },
  {
   "cell_type": "code",
   "execution_count": 63,
   "metadata": {},
   "outputs": [
    {
     "ename": "AttributeError",
     "evalue": "'Cal' object has no attribute 'sub'",
     "output_type": "error",
     "traceback": [
      "\u001b[1;31m---------------------------------------------------------------------------\u001b[0m",
      "\u001b[1;31mAttributeError\u001b[0m                            Traceback (most recent call last)",
      "\u001b[1;32m~\\AppData\\Local\\Temp\\ipykernel_8928\\3273708311.py\u001b[0m in \u001b[0;36m<module>\u001b[1;34m\u001b[0m\n\u001b[0;32m     25\u001b[0m \u001b[0mcal4\u001b[0m \u001b[1;33m=\u001b[0m \u001b[0mCal\u001b[0m\u001b[1;33m(\u001b[0m\u001b[1;36m2\u001b[0m\u001b[1;33m,\u001b[0m\u001b[1;36m1\u001b[0m\u001b[1;33m)\u001b[0m\u001b[1;33m\u001b[0m\u001b[1;33m\u001b[0m\u001b[0m\n\u001b[0;32m     26\u001b[0m \u001b[0mcal4\u001b[0m\u001b[1;33m.\u001b[0m\u001b[0madd\u001b[0m\u001b[1;33m(\u001b[0m\u001b[1;33m)\u001b[0m\u001b[1;33m\u001b[0m\u001b[1;33m\u001b[0m\u001b[0m\n\u001b[1;32m---> 27\u001b[1;33m \u001b[0mcal4\u001b[0m\u001b[1;33m.\u001b[0m\u001b[0msub\u001b[0m\u001b[1;33m(\u001b[0m\u001b[1;33m)\u001b[0m\u001b[1;33m\u001b[0m\u001b[1;33m\u001b[0m\u001b[0m\n\u001b[0m",
      "\u001b[1;31mAttributeError\u001b[0m: 'Cal' object has no attribute 'sub'"
     ]
    }
   ],
   "source": [
    "# 상속 \n",
    "class Cal:\n",
    "    def __init__(self, first, second):\n",
    "        self.first = first\n",
    "        self.second = second\n",
    "\n",
    "    def add(self):\n",
    "        result = self.first + self.second\n",
    "        return result\n",
    "\n",
    "    def mul(self):\n",
    "        result = self.first * self.second\n",
    "        return result\n",
    "\n",
    "\n",
    "class MoreCal(Cal):\n",
    "    def sub(self):\n",
    "        result = self.first - self.second\n",
    "        return result\n",
    "\n",
    "cal3 = MoreCal(3,2)\n",
    "# cal3.add()\n",
    "cal3.sub()\n",
    "\n",
    "cal4 = Cal(2,1)\n",
    "cal4.add()\n",
    "cal4.sub()"
   ]
  },
  {
   "cell_type": "code",
   "execution_count": 72,
   "metadata": {},
   "outputs": [
    {
     "data": {
      "text/plain": [
       "'계산 불가입니다.'"
      ]
     },
     "execution_count": 72,
     "metadata": {},
     "output_type": "execute_result"
    }
   ],
   "source": [
    "# 상속 \n",
    "class Cal:\n",
    "    def __init__(self, first, second):\n",
    "        self.first = first\n",
    "        self.second = second\n",
    "\n",
    "    def add(self):\n",
    "        result = self.first + self.second\n",
    "        return result\n",
    "\n",
    "    def mul(self):\n",
    "        result = self.first * self.second\n",
    "        return result\n",
    "\n",
    "    def div(self):\n",
    "        result = self.first / self.second\n",
    "        return result\n",
    "\n",
    "\n",
    "class MoreCal(Cal):\n",
    "    def sub(self):\n",
    "        result = self.first - self.second\n",
    "        return result\n",
    "\n",
    "    def div(self):\n",
    "        if self.second == 0:\n",
    "            return \"계산 불가입니다.\"\n",
    "        else:\n",
    "            result = self.first / self.second\n",
    "            return result\n",
    "\n",
    "cal5 = MoreCal(2,0)\n",
    "# cal3.add()\n",
    "cal5.div()"
   ]
  },
  {
   "cell_type": "code",
   "execution_count": null,
   "metadata": {},
   "outputs": [],
   "source": []
  },
  {
   "cell_type": "code",
   "execution_count": 77,
   "metadata": {},
   "outputs": [
    {
     "name": "stdout",
     "output_type": "stream",
     "text": [
      "에러가 발생했습니다. \n"
     ]
    }
   ],
   "source": [
    "try:\n",
    "    4 / 0\n",
    "except:\n",
    "    print(\"에러가 발생했습니다. \")"
   ]
  },
  {
   "cell_type": "code",
   "execution_count": 79,
   "metadata": {},
   "outputs": [
    {
     "name": "stdout",
     "output_type": "stream",
     "text": [
      "에러가 발생했습니다. \n",
      "프로그램을 종료합니다. \n"
     ]
    }
   ],
   "source": [
    "try:\n",
    "    print(4 / 0)\n",
    "except:\n",
    "    print(\"에러가 발생했습니다. \")\n",
    "finally:\n",
    "    print(\"프로그램을 종료합니다. \") \n",
    "#에러발생유무와 상관없이 항상 마지막에 실행"
   ]
  },
  {
   "cell_type": "code",
   "execution_count": 90,
   "metadata": {},
   "outputs": [
    {
     "name": "stdout",
     "output_type": "stream",
     "text": [
      "1\n",
      "0으로 나누면 예외가 발생됩니다.\n"
     ]
    }
   ],
   "source": [
    "# 여러 예외 처리\n",
    "\n",
    "try:\n",
    "    a = [1,2]\n",
    "    print(a[0])\n",
    "    print(4/0)\n",
    "except ZeroDivisionError:\n",
    "    print(\"0으로 나누면 예외가 발생됩니다.\")\n",
    "except IndexError:\n",
    "    print(\"찾으시는 인덱스가 없습니다.\")"
   ]
  },
  {
   "cell_type": "code",
   "execution_count": 93,
   "metadata": {},
   "outputs": [
    {
     "name": "stdout",
     "output_type": "stream",
     "text": [
      "list index out of range\n"
     ]
    }
   ],
   "source": [
    "try:\n",
    "    a = [1,2]\n",
    "    print(a[2])\n",
    "    print(4/0)\n",
    "except ZeroDivisionError as e:\n",
    "    print(e)\n",
    "except IndexError as e:\n",
    "    print(e)"
   ]
  },
  {
   "cell_type": "code",
   "execution_count": 94,
   "metadata": {},
   "outputs": [
    {
     "name": "stdout",
     "output_type": "stream",
     "text": [
      "list index out of range\n"
     ]
    }
   ],
   "source": [
    "try:\n",
    "    a = [1,2]\n",
    "    print(a[2])\n",
    "    print(4/0)\n",
    "except (ZeroDivisionError, IndexError) as e:\n",
    "    print(e)"
   ]
  },
  {
   "cell_type": "code",
   "execution_count": 97,
   "metadata": {},
   "outputs": [
    {
     "name": "stdout",
     "output_type": "stream",
     "text": [
      "no problem\n",
      "program end\n"
     ]
    }
   ],
   "source": [
    "try:\n",
    "    4 / 2\n",
    "except:# 문제가 있을때만 실행되는 구문\n",
    "    print(\"exception !!!\")\n",
    "else:  # 문제가 없을때만 실행되는 구문\n",
    "    print(\"no problem\")\n",
    "finally:# 언제나 항상 마지막에 실행되는 구문\n",
    "    print(\"program end\")"
   ]
  },
  {
   "cell_type": "code",
   "execution_count": null,
   "metadata": {},
   "outputs": [],
   "source": [
    "try:\n",
    "    4 / 0\n",
    "except:\n",
    "    pass"
   ]
  }
 ],
 "metadata": {
  "kernelspec": {
   "display_name": "Python 3.9.13 ('base')",
   "language": "python",
   "name": "python3"
  },
  "language_info": {
   "codemirror_mode": {
    "name": "ipython",
    "version": 3
   },
   "file_extension": ".py",
   "mimetype": "text/x-python",
   "name": "python",
   "nbconvert_exporter": "python",
   "pygments_lexer": "ipython3",
   "version": "3.9.13"
  },
  "orig_nbformat": 4,
  "vscode": {
   "interpreter": {
    "hash": "7f7e32c5e102288e992346f63d8c1eb5d8460aac8c9e83a028ee1cbe79ab1c05"
   }
  }
 },
 "nbformat": 4,
 "nbformat_minor": 2
}
